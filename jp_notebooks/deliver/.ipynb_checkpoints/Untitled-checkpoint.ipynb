{
 "cells": [
  {
   "cell_type": "code",
   "execution_count": 1,
   "metadata": {
    "collapsed": true
   },
   "outputs": [],
   "source": [
    "DATA_PATH = '/home/kotuzo/DATA_NINJA_COMP/EPIK_Solution/all_data/extracted/transformed/'\n",
    "SQ_DATA_PATH = '/home/kotuzo/DATA_NINJA_COMP/EPIK_Solution/all_data/extracted/search_queries/'\n",
    "AD_DATA_PATH = '/home/kotuzo/DATA_NINJA_COMP/EPIK_Solution/all_data/extracted/ads/'"
   ]
  },
  {
   "cell_type": "code",
   "execution_count": 2,
   "metadata": {
    "collapsed": true
   },
   "outputs": [],
   "source": [
    "import pandas as pd\n",
    "import numpy as np\n",
    "import matplotlib.pyplot as plt\n",
    "import seaborn\n",
    "%matplotlib inline"
   ]
  },
  {
   "cell_type": "code",
   "execution_count": 12,
   "metadata": {
    "collapsed": true
   },
   "outputs": [],
   "source": [
    "sq_data = pd.read_csv(SQ_DATA_PATH + 'search_queries_2016_12.csv', parse_dates=['sorting_date'])"
   ]
  },
  {
   "cell_type": "code",
   "execution_count": 13,
   "metadata": {},
   "outputs": [
    {
     "data": {
      "text/html": [
       "<div>\n",
       "<style>\n",
       "    .dataframe thead tr:only-child th {\n",
       "        text-align: right;\n",
       "    }\n",
       "\n",
       "    .dataframe thead th {\n",
       "        text-align: left;\n",
       "    }\n",
       "\n",
       "    .dataframe tbody tr th {\n",
       "        vertical-align: top;\n",
       "    }\n",
       "</style>\n",
       "<table border=\"1\" class=\"dataframe\">\n",
       "  <thead>\n",
       "    <tr style=\"text-align: right;\">\n",
       "      <th></th>\n",
       "      <th>sorting_date</th>\n",
       "      <th>phrase</th>\n",
       "      <th>category_id</th>\n",
       "      <th>sessions_count</th>\n",
       "      <th>parent_id</th>\n",
       "      <th>name_pl</th>\n",
       "    </tr>\n",
       "  </thead>\n",
       "  <tbody>\n",
       "    <tr>\n",
       "      <th>0</th>\n",
       "      <td>2016-11-21</td>\n",
       "      <td>NaN</td>\n",
       "      <td>15.0</td>\n",
       "      <td>85916.0</td>\n",
       "      <td>1307</td>\n",
       "      <td>Wynajem</td>\n",
       "    </tr>\n",
       "    <tr>\n",
       "      <th>1</th>\n",
       "      <td>2016-11-21</td>\n",
       "      <td>kawalerka</td>\n",
       "      <td>15.0</td>\n",
       "      <td>968.0</td>\n",
       "      <td>1307</td>\n",
       "      <td>Wynajem</td>\n",
       "    </tr>\n",
       "    <tr>\n",
       "      <th>2</th>\n",
       "      <td>2016-11-21</td>\n",
       "      <td>mieszkanie</td>\n",
       "      <td>15.0</td>\n",
       "      <td>183.0</td>\n",
       "      <td>1307</td>\n",
       "      <td>Wynajem</td>\n",
       "    </tr>\n",
       "    <tr>\n",
       "      <th>3</th>\n",
       "      <td>2016-11-21</td>\n",
       "      <td>warszawa</td>\n",
       "      <td>15.0</td>\n",
       "      <td>154.0</td>\n",
       "      <td>1307</td>\n",
       "      <td>Wynajem</td>\n",
       "    </tr>\n",
       "    <tr>\n",
       "      <th>4</th>\n",
       "      <td>2016-11-21</td>\n",
       "      <td>2 pokoje</td>\n",
       "      <td>15.0</td>\n",
       "      <td>150.0</td>\n",
       "      <td>1307</td>\n",
       "      <td>Wynajem</td>\n",
       "    </tr>\n",
       "  </tbody>\n",
       "</table>\n",
       "</div>"
      ],
      "text/plain": [
       "  sorting_date      phrase  category_id  sessions_count  parent_id  name_pl\n",
       "0   2016-11-21         NaN         15.0         85916.0       1307  Wynajem\n",
       "1   2016-11-21   kawalerka         15.0           968.0       1307  Wynajem\n",
       "2   2016-11-21  mieszkanie         15.0           183.0       1307  Wynajem\n",
       "3   2016-11-21    warszawa         15.0           154.0       1307  Wynajem\n",
       "4   2016-11-21    2 pokoje         15.0           150.0       1307  Wynajem"
      ]
     },
     "execution_count": 13,
     "metadata": {},
     "output_type": "execute_result"
    }
   ],
   "source": [
    "sq_data.head()"
   ]
  },
  {
   "cell_type": "code",
   "execution_count": 14,
   "metadata": {},
   "outputs": [],
   "source": [
    "from sklearn.linear_model import LinearRegression\n",
    "import statsmodels.api as sm"
   ]
  },
  {
   "cell_type": "code",
   "execution_count": 28,
   "metadata": {
    "collapsed": true
   },
   "outputs": [],
   "source": [
    "def get_ts_for_cat(l_id, df):\n",
    "    temp_df = df[df['category_id'] == l_id]\n",
    "    temp_df = temp_df.set_index('sorting_date')\n",
    "    return temp_df['sessions_count'].resample('D').sum()\n",
    "\n",
    "def get_derivative_of_ts(vals):\n",
    "    lm = LinearRegression()\n",
    "    X = sm.add_constant(np.arange(len(vals)))\n",
    "    derivative = LinearRegression().fit(X, vals).coef_[1]\n",
    "    return derivative"
   ]
  },
  {
   "cell_type": "code",
   "execution_count": 29,
   "metadata": {},
   "outputs": [],
   "source": [
    "temp_ts = get_ts_for_cat(188, sq_data)\n",
    "Y = np.array(list(temp_ts))"
   ]
  },
  {
   "cell_type": "code",
   "execution_count": 30,
   "metadata": {},
   "outputs": [
    {
     "data": {
      "text/plain": [
       "45.53186813186818"
      ]
     },
     "execution_count": 30,
     "metadata": {},
     "output_type": "execute_result"
    }
   ],
   "source": [
    "get_derivative_of_ts(Y)"
   ]
  },
  {
   "cell_type": "code",
   "execution_count": 22,
   "metadata": {},
   "outputs": [
    {
     "data": {
      "text/plain": [
       "[<matplotlib.lines.Line2D at 0x7f6609316278>]"
      ]
     },
     "execution_count": 22,
     "metadata": {},
     "output_type": "execute_result"
    },
    {
     "data": {
      "image/png": "[encoded data removed]",
      "text/plain": [
       "<matplotlib.figure.Figure at 0x7f6605954dd8>"
      ]
     },
     "metadata": {},
     "output_type": "display_data"
    }
   ],
   "source": [
    "plt.plot(Y)"
   ]
  },
  {
   "cell_type": "code",
   "execution_count": null,
   "metadata": {
    "collapsed": true
   },
   "outputs": [],
   "source": []
  }
 ],
 "metadata": {
  "kernelspec": {
   "display_name": "Python 3",
   "language": "python",
   "name": "python3"
  },
  "language_info": {
   "codemirror_mode": {
    "name": "ipython",
    "version": 3
   },
   "file_extension": ".py",
   "mimetype": "text/x-python",
   "name": "python",
   "nbconvert_exporter": "python",
   "pygments_lexer": "ipython3",
   "version": "3.6.1"
  }
 },
 "nbformat": 4,
 "nbformat_minor": 2
}
