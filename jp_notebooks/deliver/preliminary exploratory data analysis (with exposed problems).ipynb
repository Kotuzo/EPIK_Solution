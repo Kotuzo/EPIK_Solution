{
 "cells": [
  {
   "cell_type": "code",
   "execution_count": 3,
   "metadata": {
    "collapsed": true
   },
   "outputs": [],
   "source": [
    "import pandas as pd\n",
    "import numpy as np\n",
    "import seaborn as sns\n",
    "import matplotlib.pyplot as plt\n",
    "%matplotlib inline"
   ]
  },
  {
   "cell_type": "markdown",
   "metadata": {},
   "source": [
    "### SET TO EXTRACTED DATA DIR!"
   ]
  },
  {
   "cell_type": "code",
   "execution_count": 4,
   "metadata": {
    "collapsed": true
   },
   "outputs": [],
   "source": [
    "EXTRACTED_DATA_DIR = '/home/kotuzo/DATA_NINJA_COMP/EPIK_Solution/all_data/extracted/'"
   ]
  },
  {
   "cell_type": "markdown",
   "metadata": {},
   "source": [
    "### Load files + transform for time series analysis"
   ]
  },
  {
   "cell_type": "code",
   "execution_count": 5,
   "metadata": {},
   "outputs": [],
   "source": [
    "sq_df = pd.read_csv(EXTRACTED_DATA_DIR + 'search_queries_2016_11.csv', parse_dates=['sorting_date'])\n",
    "categories = pd.read_csv(EXTRACTED_DATA_DIR + 'categories.csv')"
   ]
  },
  {
   "cell_type": "code",
   "execution_count": 6,
   "metadata": {},
   "outputs": [
    {
     "data": {
      "text/html": [
       "<div>\n",
       "<style>\n",
       "    .dataframe thead tr:only-child th {\n",
       "        text-align: right;\n",
       "    }\n",
       "\n",
       "    .dataframe thead th {\n",
       "        text-align: left;\n",
       "    }\n",
       "\n",
       "    .dataframe tbody tr th {\n",
       "        vertical-align: top;\n",
       "    }\n",
       "</style>\n",
       "<table border=\"1\" class=\"dataframe\">\n",
       "  <thead>\n",
       "    <tr style=\"text-align: right;\">\n",
       "      <th></th>\n",
       "      <th>sorting_date</th>\n",
       "      <th>phrase</th>\n",
       "      <th>category_id</th>\n",
       "      <th>sessions_count</th>\n",
       "      <th>parent_id</th>\n",
       "      <th>name_pl</th>\n",
       "    </tr>\n",
       "  </thead>\n",
       "  <tbody>\n",
       "    <tr>\n",
       "      <th>0</th>\n",
       "      <td>2016-10-24</td>\n",
       "      <td>NaN</td>\n",
       "      <td>15.0</td>\n",
       "      <td>89049.0</td>\n",
       "      <td>1307</td>\n",
       "      <td>Wynajem</td>\n",
       "    </tr>\n",
       "    <tr>\n",
       "      <th>1</th>\n",
       "      <td>2016-10-24</td>\n",
       "      <td>kawalerka</td>\n",
       "      <td>15.0</td>\n",
       "      <td>991.0</td>\n",
       "      <td>1307</td>\n",
       "      <td>Wynajem</td>\n",
       "    </tr>\n",
       "    <tr>\n",
       "      <th>2</th>\n",
       "      <td>2016-10-24</td>\n",
       "      <td>mieszkanie</td>\n",
       "      <td>15.0</td>\n",
       "      <td>237.0</td>\n",
       "      <td>1307</td>\n",
       "      <td>Wynajem</td>\n",
       "    </tr>\n",
       "    <tr>\n",
       "      <th>3</th>\n",
       "      <td>2016-10-24</td>\n",
       "      <td>warszawa</td>\n",
       "      <td>15.0</td>\n",
       "      <td>215.0</td>\n",
       "      <td>1307</td>\n",
       "      <td>Wynajem</td>\n",
       "    </tr>\n",
       "    <tr>\n",
       "      <th>4</th>\n",
       "      <td>2016-10-24</td>\n",
       "      <td>2 pokoje</td>\n",
       "      <td>15.0</td>\n",
       "      <td>203.0</td>\n",
       "      <td>1307</td>\n",
       "      <td>Wynajem</td>\n",
       "    </tr>\n",
       "  </tbody>\n",
       "</table>\n",
       "</div>"
      ],
      "text/plain": [
       "  sorting_date      phrase  category_id  sessions_count  parent_id  name_pl\n",
       "0   2016-10-24         NaN         15.0         89049.0       1307  Wynajem\n",
       "1   2016-10-24   kawalerka         15.0           991.0       1307  Wynajem\n",
       "2   2016-10-24  mieszkanie         15.0           237.0       1307  Wynajem\n",
       "3   2016-10-24    warszawa         15.0           215.0       1307  Wynajem\n",
       "4   2016-10-24    2 pokoje         15.0           203.0       1307  Wynajem"
      ]
     },
     "execution_count": 6,
     "metadata": {},
     "output_type": "execute_result"
    }
   ],
   "source": [
    "sq_df.head()"
   ]
  },
  {
   "cell_type": "code",
   "execution_count": 7,
   "metadata": {
    "collapsed": true
   },
   "outputs": [],
   "source": [
    "sq_time_series = sq_df.set_index('sorting_date')"
   ]
  },
  {
   "cell_type": "code",
   "execution_count": 8,
   "metadata": {},
   "outputs": [
    {
     "data": {
      "text/html": [
       "<div>\n",
       "<style>\n",
       "    .dataframe thead tr:only-child th {\n",
       "        text-align: right;\n",
       "    }\n",
       "\n",
       "    .dataframe thead th {\n",
       "        text-align: left;\n",
       "    }\n",
       "\n",
       "    .dataframe tbody tr th {\n",
       "        vertical-align: top;\n",
       "    }\n",
       "</style>\n",
       "<table border=\"1\" class=\"dataframe\">\n",
       "  <thead>\n",
       "    <tr style=\"text-align: right;\">\n",
       "      <th></th>\n",
       "      <th>phrase</th>\n",
       "      <th>category_id</th>\n",
       "      <th>sessions_count</th>\n",
       "      <th>parent_id</th>\n",
       "      <th>name_pl</th>\n",
       "    </tr>\n",
       "    <tr>\n",
       "      <th>sorting_date</th>\n",
       "      <th></th>\n",
       "      <th></th>\n",
       "      <th></th>\n",
       "      <th></th>\n",
       "      <th></th>\n",
       "    </tr>\n",
       "  </thead>\n",
       "  <tbody>\n",
       "    <tr>\n",
       "      <th>2016-10-24</th>\n",
       "      <td>NaN</td>\n",
       "      <td>15.0</td>\n",
       "      <td>89049.0</td>\n",
       "      <td>1307</td>\n",
       "      <td>Wynajem</td>\n",
       "    </tr>\n",
       "    <tr>\n",
       "      <th>2016-10-24</th>\n",
       "      <td>kawalerka</td>\n",
       "      <td>15.0</td>\n",
       "      <td>991.0</td>\n",
       "      <td>1307</td>\n",
       "      <td>Wynajem</td>\n",
       "    </tr>\n",
       "    <tr>\n",
       "      <th>2016-10-24</th>\n",
       "      <td>mieszkanie</td>\n",
       "      <td>15.0</td>\n",
       "      <td>237.0</td>\n",
       "      <td>1307</td>\n",
       "      <td>Wynajem</td>\n",
       "    </tr>\n",
       "    <tr>\n",
       "      <th>2016-10-24</th>\n",
       "      <td>warszawa</td>\n",
       "      <td>15.0</td>\n",
       "      <td>215.0</td>\n",
       "      <td>1307</td>\n",
       "      <td>Wynajem</td>\n",
       "    </tr>\n",
       "    <tr>\n",
       "      <th>2016-10-24</th>\n",
       "      <td>2 pokoje</td>\n",
       "      <td>15.0</td>\n",
       "      <td>203.0</td>\n",
       "      <td>1307</td>\n",
       "      <td>Wynajem</td>\n",
       "    </tr>\n",
       "  </tbody>\n",
       "</table>\n",
       "</div>"
      ],
      "text/plain": [
       "                  phrase  category_id  sessions_count  parent_id  name_pl\n",
       "sorting_date                                                             \n",
       "2016-10-24           NaN         15.0         89049.0       1307  Wynajem\n",
       "2016-10-24     kawalerka         15.0           991.0       1307  Wynajem\n",
       "2016-10-24    mieszkanie         15.0           237.0       1307  Wynajem\n",
       "2016-10-24      warszawa         15.0           215.0       1307  Wynajem\n",
       "2016-10-24      2 pokoje         15.0           203.0       1307  Wynajem"
      ]
     },
     "execution_count": 8,
     "metadata": {},
     "output_type": "execute_result"
    }
   ],
   "source": [
    "sq_time_series.head()"
   ]
  },
  {
   "cell_type": "markdown",
   "metadata": {},
   "source": [
    "#### Functions for categories"
   ]
  },
  {
   "cell_type": "code",
   "execution_count": 9,
   "metadata": {
    "collapsed": true
   },
   "outputs": [],
   "source": [
    "def list_categories(leaf_id, categories):\n",
    "    parent_id_exists = True\n",
    "    cat_list = []\n",
    "    parent_id = 1\n",
    "    while parent_id > 0:\n",
    "        name = categories[categories['id'] == leaf_id]['name_pl'].iloc[0]\n",
    "        parent_id = categories[categories['id'] == leaf_id]['parent_id'].iloc[0]\n",
    "        ind = categories[categories['id'] == leaf_id]['id'].iloc[0]\n",
    "        cat_list.append(name)\n",
    "        leaf_id = parent_id\n",
    "    return list(reversed(cat_list))\n",
    "\n",
    "def get_top_parent_category(leaf_id, categories):\n",
    "    parent_id = 1\n",
    "    while parent_id > 0:\n",
    "        parent_id = categories[categories['id'] == leaf_id]['parent_id'].iloc[0]\n",
    "        p_id = categories[categories['id'] == leaf_id]['id'].iloc[0]\n",
    "        leaf_id = parent_id\n",
    "    return p_id"
   ]
  },
  {
   "cell_type": "markdown",
   "metadata": {},
   "source": [
    "Sanity check"
   ]
  },
  {
   "cell_type": "code",
   "execution_count": 10,
   "metadata": {},
   "outputs": [
    {
     "data": {
      "text/plain": [
       "5"
      ]
     },
     "execution_count": 10,
     "metadata": {},
     "output_type": "execute_result"
    }
   ],
   "source": [
    "get_top_parent_category(188, categories)"
   ]
  },
  {
   "cell_type": "code",
   "execution_count": 11,
   "metadata": {
    "collapsed": true
   },
   "outputs": [],
   "source": [
    "def removeTimeFromDateTime(df, columnName):\n",
    "    return pd.to_datetime(df[columnName])\n",
    "\n",
    "def get_ts_for_cat(l_id, df):\n",
    "    temp_df = df[df['category_id'] == l_id]\n",
    "    return temp_df['sessions_count'].resample('D').sum()\n",
    "\n",
    "# print(list_categories(l_id, categories))\n",
    "# print(get_top_parent_category(l_id, categories))"
   ]
  },
  {
   "cell_type": "code",
   "execution_count": 12,
   "metadata": {},
   "outputs": [
    {
     "name": "stdout",
     "output_type": "stream",
     "text": [
      "sorting_date\n",
      "2016-10-18    28210.0\n",
      "2016-10-19    28715.0\n",
      "2016-10-20    29244.0\n",
      "2016-10-21    29420.0\n",
      "2016-10-22    30104.0\n",
      "2016-10-23    37726.0\n",
      "2016-10-24    29367.0\n",
      "2016-10-25    29493.0\n",
      "2016-10-26    28225.0\n",
      "2016-10-27    27001.0\n",
      "2016-10-28    26422.0\n",
      "2016-10-29    27956.0\n",
      "2016-10-30    39190.0\n",
      "2016-10-31    28415.0\n",
      "Freq: D, Name: sessions_count, dtype: float64\n",
      "['Motoryzacja', 'Samochody osobowe', 'Fiat']\n",
      "5\n"
     ]
    }
   ],
   "source": [
    "l_id = 188\n",
    "print(get_ts_for_cat(l_id, sq_time_series))\n",
    "print(list_categories(l_id, categories))\n",
    "print(get_top_parent_category(l_id, categories))  # maybe super parent category would be helpful"
   ]
  },
  {
   "cell_type": "markdown",
   "metadata": {},
   "source": [
    "Look at some trends"
   ]
  },
  {
   "cell_type": "code",
   "execution_count": 13,
   "metadata": {},
   "outputs": [
    {
     "name": "stderr",
     "output_type": "stream",
     "text": [
      "/home/kotuzo/anaconda3/envs/ML_FULL/lib/python3.6/site-packages/statsmodels/compat/pandas.py:56: FutureWarning: The pandas.core.datetools module is deprecated and will be removed in a future version. Please use the pandas.tseries module instead.\n",
      "  from pandas.core import datetools\n"
     ]
    }
   ],
   "source": [
    "import statsmodels.api as sm"
   ]
  },
  {
   "cell_type": "code",
   "execution_count": 14,
   "metadata": {
    "collapsed": true
   },
   "outputs": [],
   "source": [
    "X = np.arange(14)"
   ]
  },
  {
   "cell_type": "code",
   "execution_count": 15,
   "metadata": {
    "collapsed": true
   },
   "outputs": [],
   "source": [
    "X = sm.add_constant(X)"
   ]
  },
  {
   "cell_type": "code",
   "execution_count": 16,
   "metadata": {
    "collapsed": true
   },
   "outputs": [],
   "source": [
    "temp_ts = get_ts_for_cat(188, sq_time_series)\n",
    "Y = np.array(list(temp_ts))"
   ]
  },
  {
   "cell_type": "code",
   "execution_count": 17,
   "metadata": {},
   "outputs": [
    {
     "data": {
      "text/plain": [
       "[<matplotlib.lines.Line2D at 0x7f7cbc08ef98>]"
      ]
     },
     "execution_count": 17,
     "metadata": {},
     "output_type": "execute_result"
    },
    {
     "data": {
      "image/png": "[encoded data removed]",
      "text/plain": [
       "<matplotlib.figure.Figure at 0x7f7cfc0d27b8>"
      ]
     },
     "metadata": {},
     "output_type": "display_data"
    }
   ],
   "source": [
    "plt.plot(Y)"
   ]
  },
  {
   "cell_type": "markdown",
   "metadata": {},
   "source": [
    "Try with linear regression - it could be a new feature representing trend"
   ]
  },
  {
   "cell_type": "code",
   "execution_count": 18,
   "metadata": {
    "collapsed": true
   },
   "outputs": [],
   "source": [
    "from sklearn.linear_model import LinearRegression"
   ]
  },
  {
   "cell_type": "code",
   "execution_count": 19,
   "metadata": {
    "collapsed": true
   },
   "outputs": [],
   "source": [
    "model = LinearRegression()"
   ]
  },
  {
   "cell_type": "code",
   "execution_count": 20,
   "metadata": {},
   "outputs": [
    {
     "data": {
      "text/plain": [
       "LinearRegression(copy_X=True, fit_intercept=True, n_jobs=1, normalize=False)"
      ]
     },
     "execution_count": 20,
     "metadata": {},
     "output_type": "execute_result"
    }
   ],
   "source": [
    "model.fit(X, Y)"
   ]
  },
  {
   "cell_type": "code",
   "execution_count": 21,
   "metadata": {},
   "outputs": [
    {
     "data": {
      "text/plain": [
       "91.032967032967065"
      ]
     },
     "execution_count": 21,
     "metadata": {},
     "output_type": "execute_result"
    }
   ],
   "source": [
    "model.coef_[1]"
   ]
  },
  {
   "cell_type": "code",
   "execution_count": 22,
   "metadata": {},
   "outputs": [
    {
     "data": {
      "text/plain": [
       "29371.714285714286"
      ]
     },
     "execution_count": 22,
     "metadata": {},
     "output_type": "execute_result"
    }
   ],
   "source": [
    "model.intercept_  # it could be a feature also"
   ]
  },
  {
   "cell_type": "code",
   "execution_count": 23,
   "metadata": {
    "collapsed": true
   },
   "outputs": [],
   "source": [
    "Xs = np.arange(14)"
   ]
  },
  {
   "cell_type": "code",
   "execution_count": 24,
   "metadata": {},
   "outputs": [
    {
     "data": {
      "text/plain": [
       "[<matplotlib.lines.Line2D at 0x7f7cb2f63c50>]"
      ]
     },
     "execution_count": 24,
     "metadata": {},
     "output_type": "execute_result"
    },
    {
     "data": {
      "image/png": "[encoded data removed]",
      "text/plain": [
       "<matplotlib.figure.Figure at 0x7f7cb2f63c88>"
      ]
     },
     "metadata": {},
     "output_type": "display_data"
    }
   ],
   "source": [
    "plt.plot(Xs * model.coef_[1] + model.intercept_)\n",
    "plt.plot(Y)"
   ]
  },
  {
   "cell_type": "markdown",
   "metadata": {},
   "source": [
    "Hmm... It could work, those peaks are weird, it's quite common in this dataset. Still I don't know what could be a potential cause of such peaks."
   ]
  },
  {
   "cell_type": "code",
   "execution_count": 25,
   "metadata": {},
   "outputs": [
    {
     "data": {
      "text/plain": [
       "array([ 28210.,  28715.,  29244.,  29420.,  30104.,  37726.,  29367.,\n",
       "        29493.,  28225.,  27001.,  26422.,  27956.,  39190.,  28415.])"
      ]
     },
     "execution_count": 25,
     "metadata": {},
     "output_type": "execute_result"
    }
   ],
   "source": [
    "Y"
   ]
  },
  {
   "cell_type": "markdown",
   "metadata": {},
   "source": [
    "Derivateive of linear function is its coeficient f(x) = ax+b => f'(x) = a:"
   ]
  },
  {
   "cell_type": "code",
   "execution_count": 26,
   "metadata": {
    "collapsed": true
   },
   "outputs": [],
   "source": [
    "def get_derivative_of_ts(vals):\n",
    "    lm = LinearRegression()\n",
    "    X = np.arange(len(vals))\n",
    "    X = sm.add_constant(X)\n",
    "    model.fit(X, vals)\n",
    "    return model.coef_[1]"
   ]
  },
  {
   "cell_type": "markdown",
   "metadata": {},
   "source": [
    "### Potential features extracted from time series data"
   ]
  },
  {
   "cell_type": "code",
   "execution_count": 27,
   "metadata": {},
   "outputs": [
    {
     "data": {
      "text/plain": [
       "91.032967032967065"
      ]
     },
     "execution_count": 27,
     "metadata": {},
     "output_type": "execute_result"
    }
   ],
   "source": [
    "get_derivative_of_ts(Y)"
   ]
  },
  {
   "cell_type": "code",
   "execution_count": 28,
   "metadata": {},
   "outputs": [
    {
     "data": {
      "text/plain": [
       "29963.428571428572"
      ]
     },
     "execution_count": 28,
     "metadata": {},
     "output_type": "execute_result"
    }
   ],
   "source": [
    "Y.mean()"
   ]
  },
  {
   "cell_type": "code",
   "execution_count": 29,
   "metadata": {},
   "outputs": [
    {
     "data": {
      "text/plain": [
       "39190.0"
      ]
     },
     "execution_count": 29,
     "metadata": {},
     "output_type": "execute_result"
    }
   ],
   "source": [
    "Y.max()"
   ]
  },
  {
   "cell_type": "code",
   "execution_count": 30,
   "metadata": {},
   "outputs": [
    {
     "data": {
      "text/plain": [
       "26422.0"
      ]
     },
     "execution_count": 30,
     "metadata": {},
     "output_type": "execute_result"
    }
   ],
   "source": [
    "Y.min()"
   ]
  },
  {
   "cell_type": "code",
   "execution_count": 31,
   "metadata": {},
   "outputs": [
    {
     "data": {
      "text/plain": [
       "3607.503464294658"
      ]
     },
     "execution_count": 31,
     "metadata": {},
     "output_type": "execute_result"
    }
   ],
   "source": [
    "Y.std()"
   ]
  },
  {
   "cell_type": "markdown",
   "metadata": {},
   "source": [
    "### Look at ads data"
   ]
  },
  {
   "cell_type": "code",
   "execution_count": 32,
   "metadata": {
    "collapsed": true
   },
   "outputs": [],
   "source": [
    "ads_df = pd.read_csv(EXTRACTED_DATA_DIR + 'ads_2016_11.csv', parse_dates=['sorting_date', 'created_at_first', 'valid_to'])"
   ]
  },
  {
   "cell_type": "code",
   "execution_count": 33,
   "metadata": {},
   "outputs": [
    {
     "data": {
      "text/html": [
       "<div>\n",
       "<style>\n",
       "    .dataframe thead tr:only-child th {\n",
       "        text-align: right;\n",
       "    }\n",
       "\n",
       "    .dataframe thead th {\n",
       "        text-align: left;\n",
       "    }\n",
       "\n",
       "    .dataframe tbody tr th {\n",
       "        vertical-align: top;\n",
       "    }\n",
       "</style>\n",
       "<table border=\"1\" class=\"dataframe\">\n",
       "  <thead>\n",
       "    <tr style=\"text-align: right;\">\n",
       "      <th></th>\n",
       "      <th>id</th>\n",
       "      <th>region_id</th>\n",
       "      <th>category_id</th>\n",
       "      <th>subregion_id</th>\n",
       "      <th>district_id</th>\n",
       "      <th>city_id</th>\n",
       "      <th>accurate_location</th>\n",
       "      <th>user_id</th>\n",
       "      <th>sorting_date</th>\n",
       "      <th>created_at_first</th>\n",
       "      <th>valid_to</th>\n",
       "      <th>title</th>\n",
       "      <th>description</th>\n",
       "      <th>full_description</th>\n",
       "      <th>has_phone</th>\n",
       "      <th>params</th>\n",
       "      <th>private_business</th>\n",
       "      <th>has_person</th>\n",
       "      <th>photo_sizes</th>\n",
       "      <th>paidads_id_index</th>\n",
       "      <th>paidads_valid_to</th>\n",
       "      <th>predict_sold</th>\n",
       "      <th>predict_replies</th>\n",
       "      <th>predict_views</th>\n",
       "      <th>reply_call</th>\n",
       "      <th>reply_sms</th>\n",
       "      <th>reply_chat</th>\n",
       "      <th>reply_call_intent</th>\n",
       "      <th>reply_chat_intent</th>\n",
       "      <th>parent_id</th>\n",
       "      <th>name_pl</th>\n",
       "    </tr>\n",
       "  </thead>\n",
       "  <tbody>\n",
       "    <tr>\n",
       "      <th>0</th>\n",
       "      <td>471113355</td>\n",
       "      <td>3</td>\n",
       "      <td>279</td>\n",
       "      <td>303</td>\n",
       "      <td>385.0</td>\n",
       "      <td>1721963681</td>\n",
       "      <td>0</td>\n",
       "      <td>2052953831</td>\n",
       "      <td>2016-10-28</td>\n",
       "      <td>2012-07-04 09:18:13</td>\n",
       "      <td>2016-11-27 08:10:47</td>\n",
       "      <td>Ekogroszek workowany Pieklorz &lt;CITY&gt; - POLMARK...</td>\n",
       "      <td>Ekogroszek Pieklorz chwałowicki - \"Iskierka zi...</td>\n",
       "      <td>Ekogroszek Pieklorz chwałowicki - \"Iskierka zi...</td>\n",
       "      <td>t</td>\n",
       "      <td>price&lt;=&gt;price&lt;br&gt;price&lt;=&gt;940&lt;br&gt;state&lt;=&gt;new</td>\n",
       "      <td>business</td>\n",
       "      <td>t</td>\n",
       "      <td>{\"1\":{\"w\":489,\"h\":700}}</td>\n",
       "      <td>NaN</td>\n",
       "      <td>NaN</td>\n",
       "      <td>f</td>\n",
       "      <td>0</td>\n",
       "      <td>20</td>\n",
       "      <td>0</td>\n",
       "      <td>0</td>\n",
       "      <td>0</td>\n",
       "      <td>0</td>\n",
       "      <td>0</td>\n",
       "      <td>628</td>\n",
       "      <td>Ogrzewanie</td>\n",
       "    </tr>\n",
       "    <tr>\n",
       "      <th>1</th>\n",
       "      <td>1499520116</td>\n",
       "      <td>4</td>\n",
       "      <td>279</td>\n",
       "      <td>102</td>\n",
       "      <td>273.0</td>\n",
       "      <td>239224901</td>\n",
       "      <td>0</td>\n",
       "      <td>1029350709</td>\n",
       "      <td>2016-10-19</td>\n",
       "      <td>2012-07-06 13:20:34</td>\n",
       "      <td>2016-11-18 08:08:58</td>\n",
       "      <td>Piec akumulacyjny dynamiczny 2-5 kw w zestawie...</td>\n",
       "      <td>PROMOCJA !!! do 30.10.16\\nElektryczny ogrzewac...</td>\n",
       "      <td>PROMOCJA !!! do 30.10.16\\nElektryczny ogrzewac...</td>\n",
       "      <td>t</td>\n",
       "      <td>price&lt;=&gt;price&lt;br&gt;price&lt;=&gt;1599&lt;br&gt;state&lt;=&gt;new</td>\n",
       "      <td>business</td>\n",
       "      <td>t</td>\n",
       "      <td>{\"6\":{\"w\":640,\"h\":480},\"4\":{\"w\":933,\"h\":700},\"...</td>\n",
       "      <td>NaN</td>\n",
       "      <td>NaN</td>\n",
       "      <td>f</td>\n",
       "      <td>0</td>\n",
       "      <td>31</td>\n",
       "      <td>0</td>\n",
       "      <td>0</td>\n",
       "      <td>0</td>\n",
       "      <td>0</td>\n",
       "      <td>0</td>\n",
       "      <td>628</td>\n",
       "      <td>Ogrzewanie</td>\n",
       "    </tr>\n",
       "    <tr>\n",
       "      <th>2</th>\n",
       "      <td>102041578</td>\n",
       "      <td>17</td>\n",
       "      <td>279</td>\n",
       "      <td>158</td>\n",
       "      <td>NaN</td>\n",
       "      <td>1757638379</td>\n",
       "      <td>0</td>\n",
       "      <td>1888396760</td>\n",
       "      <td>2016-10-24</td>\n",
       "      <td>2012-07-08 16:36:20</td>\n",
       "      <td>2016-11-23 15:50:09</td>\n",
       "      <td>Drewno kominkowe i opalowe</td>\n",
       "      <td>witam sprzedam drewno kominkowe buk brzoza por...</td>\n",
       "      <td>witam sprzedam drewno kominkowe buk brzoza por...</td>\n",
       "      <td>t</td>\n",
       "      <td>price&lt;=&gt;arranged&lt;br&gt;price&lt;=&gt;160&lt;br&gt;state&lt;=&gt;</td>\n",
       "      <td>business</td>\n",
       "      <td>t</td>\n",
       "      <td>{\"1\":{\"w\":600,\"h\":450},\"2\":{\"w\":600,\"h\":450},\"...</td>\n",
       "      <td>NaN</td>\n",
       "      <td>NaN</td>\n",
       "      <td>f</td>\n",
       "      <td>2</td>\n",
       "      <td>109</td>\n",
       "      <td>2</td>\n",
       "      <td>0</td>\n",
       "      <td>0</td>\n",
       "      <td>8</td>\n",
       "      <td>0</td>\n",
       "      <td>628</td>\n",
       "      <td>Ogrzewanie</td>\n",
       "    </tr>\n",
       "    <tr>\n",
       "      <th>3</th>\n",
       "      <td>702118202</td>\n",
       "      <td>6</td>\n",
       "      <td>279</td>\n",
       "      <td>151</td>\n",
       "      <td>NaN</td>\n",
       "      <td>1555929073</td>\n",
       "      <td>0</td>\n",
       "      <td>2004944584</td>\n",
       "      <td>2016-10-22</td>\n",
       "      <td>2012-07-05 13:53:29</td>\n",
       "      <td>2016-11-21 14:41:14</td>\n",
       "      <td>Ekogroszek, Eko Groszek &lt;CITY&gt; Wesoła - 660 zł...</td>\n",
       "      <td>Skład węgla i opału \"TRANS SYSTEM\" w &lt;CITY&gt; po...</td>\n",
       "      <td>Skład węgla i opału \"TRANS SYSTEM\" w &lt;CITY&gt; po...</td>\n",
       "      <td>t</td>\n",
       "      <td>price&lt;=&gt;price&lt;br&gt;price&lt;=&gt;660&lt;br&gt;state&lt;=&gt;</td>\n",
       "      <td>business</td>\n",
       "      <td>t</td>\n",
       "      <td>{\"1\":{\"w\":400,\"h\":300}}</td>\n",
       "      <td>NaN</td>\n",
       "      <td>NaN</td>\n",
       "      <td>f</td>\n",
       "      <td>1</td>\n",
       "      <td>27</td>\n",
       "      <td>1</td>\n",
       "      <td>0</td>\n",
       "      <td>0</td>\n",
       "      <td>4</td>\n",
       "      <td>0</td>\n",
       "      <td>628</td>\n",
       "      <td>Ogrzewanie</td>\n",
       "    </tr>\n",
       "    <tr>\n",
       "      <th>4</th>\n",
       "      <td>531473873</td>\n",
       "      <td>7</td>\n",
       "      <td>279</td>\n",
       "      <td>18</td>\n",
       "      <td>NaN</td>\n",
       "      <td>2070997215</td>\n",
       "      <td>0</td>\n",
       "      <td>727192699</td>\n",
       "      <td>2016-10-19</td>\n",
       "      <td>2012-07-04 06:39:35</td>\n",
       "      <td>2016-11-18 21:11:23</td>\n",
       "      <td>Ekogroszek Pieklorz Jaret KHW Skarbek workowan...</td>\n",
       "      <td>W ofercie naszej firmy znajduje się bogaty aso...</td>\n",
       "      <td>W ofercie naszej firmy znajduje się bogaty aso...</td>\n",
       "      <td>t</td>\n",
       "      <td>price&lt;=&gt;price&lt;br&gt;price&lt;=&gt;800&lt;br&gt;state&lt;=&gt;new</td>\n",
       "      <td>business</td>\n",
       "      <td>t</td>\n",
       "      <td>{\"2\":{\"w\":1000,\"h\":531},\"1\":{\"w\":419,\"h\":468}}</td>\n",
       "      <td>NaN</td>\n",
       "      <td>NaN</td>\n",
       "      <td>f</td>\n",
       "      <td>0</td>\n",
       "      <td>27</td>\n",
       "      <td>0</td>\n",
       "      <td>0</td>\n",
       "      <td>0</td>\n",
       "      <td>3</td>\n",
       "      <td>0</td>\n",
       "      <td>628</td>\n",
       "      <td>Ogrzewanie</td>\n",
       "    </tr>\n",
       "  </tbody>\n",
       "</table>\n",
       "</div>"
      ],
      "text/plain": [
       "           id  region_id  category_id  subregion_id  district_id     city_id  \\\n",
       "0   471113355          3          279           303        385.0  1721963681   \n",
       "1  1499520116          4          279           102        273.0   239224901   \n",
       "2   102041578         17          279           158          NaN  1757638379   \n",
       "3   702118202          6          279           151          NaN  1555929073   \n",
       "4   531473873          7          279            18          NaN  2070997215   \n",
       "\n",
       "   accurate_location     user_id sorting_date    created_at_first  \\\n",
       "0                  0  2052953831   2016-10-28 2012-07-04 09:18:13   \n",
       "1                  0  1029350709   2016-10-19 2012-07-06 13:20:34   \n",
       "2                  0  1888396760   2016-10-24 2012-07-08 16:36:20   \n",
       "3                  0  2004944584   2016-10-22 2012-07-05 13:53:29   \n",
       "4                  0   727192699   2016-10-19 2012-07-04 06:39:35   \n",
       "\n",
       "             valid_to                                              title  \\\n",
       "0 2016-11-27 08:10:47  Ekogroszek workowany Pieklorz <CITY> - POLMARK...   \n",
       "1 2016-11-18 08:08:58  Piec akumulacyjny dynamiczny 2-5 kw w zestawie...   \n",
       "2 2016-11-23 15:50:09                         Drewno kominkowe i opalowe   \n",
       "3 2016-11-21 14:41:14  Ekogroszek, Eko Groszek <CITY> Wesoła - 660 zł...   \n",
       "4 2016-11-18 21:11:23  Ekogroszek Pieklorz Jaret KHW Skarbek workowan...   \n",
       "\n",
       "                                         description  \\\n",
       "0  Ekogroszek Pieklorz chwałowicki - \"Iskierka zi...   \n",
       "1  PROMOCJA !!! do 30.10.16\\nElektryczny ogrzewac...   \n",
       "2  witam sprzedam drewno kominkowe buk brzoza por...   \n",
       "3  Skład węgla i opału \"TRANS SYSTEM\" w <CITY> po...   \n",
       "4  W ofercie naszej firmy znajduje się bogaty aso...   \n",
       "\n",
       "                                    full_description has_phone  \\\n",
       "0  Ekogroszek Pieklorz chwałowicki - \"Iskierka zi...         t   \n",
       "1  PROMOCJA !!! do 30.10.16\\nElektryczny ogrzewac...         t   \n",
       "2  witam sprzedam drewno kominkowe buk brzoza por...         t   \n",
       "3  Skład węgla i opału \"TRANS SYSTEM\" w <CITY> po...         t   \n",
       "4  W ofercie naszej firmy znajduje się bogaty aso...         t   \n",
       "\n",
       "                                         params private_business has_person  \\\n",
       "0   price<=>price<br>price<=>940<br>state<=>new         business          t   \n",
       "1  price<=>price<br>price<=>1599<br>state<=>new         business          t   \n",
       "2   price<=>arranged<br>price<=>160<br>state<=>         business          t   \n",
       "3      price<=>price<br>price<=>660<br>state<=>         business          t   \n",
       "4   price<=>price<br>price<=>800<br>state<=>new         business          t   \n",
       "\n",
       "                                         photo_sizes  paidads_id_index  \\\n",
       "0                            {\"1\":{\"w\":489,\"h\":700}}               NaN   \n",
       "1  {\"6\":{\"w\":640,\"h\":480},\"4\":{\"w\":933,\"h\":700},\"...               NaN   \n",
       "2  {\"1\":{\"w\":600,\"h\":450},\"2\":{\"w\":600,\"h\":450},\"...               NaN   \n",
       "3                            {\"1\":{\"w\":400,\"h\":300}}               NaN   \n",
       "4     {\"2\":{\"w\":1000,\"h\":531},\"1\":{\"w\":419,\"h\":468}}               NaN   \n",
       "\n",
       "  paidads_valid_to predict_sold  predict_replies  predict_views  reply_call  \\\n",
       "0              NaN            f                0             20           0   \n",
       "1              NaN            f                0             31           0   \n",
       "2              NaN            f                2            109           2   \n",
       "3              NaN            f                1             27           1   \n",
       "4              NaN            f                0             27           0   \n",
       "\n",
       "   reply_sms  reply_chat  reply_call_intent  reply_chat_intent  parent_id  \\\n",
       "0          0           0                  0                  0        628   \n",
       "1          0           0                  0                  0        628   \n",
       "2          0           0                  8                  0        628   \n",
       "3          0           0                  4                  0        628   \n",
       "4          0           0                  3                  0        628   \n",
       "\n",
       "      name_pl  \n",
       "0  Ogrzewanie  \n",
       "1  Ogrzewanie  \n",
       "2  Ogrzewanie  \n",
       "3  Ogrzewanie  \n",
       "4  Ogrzewanie  "
      ]
     },
     "execution_count": 33,
     "metadata": {},
     "output_type": "execute_result"
    }
   ],
   "source": [
    "pd.set_option('display.max_columns', 50)\n",
    "ads_df.head()"
   ]
  },
  {
   "cell_type": "code",
   "execution_count": 34,
   "metadata": {},
   "outputs": [
    {
     "data": {
      "text/plain": [
       "False"
      ]
     },
     "execution_count": 34,
     "metadata": {},
     "output_type": "execute_result"
    }
   ],
   "source": [
    "15 in ads_df['category_id'].unique()  # how is it possible that the most searched category has no corresponding ad?"
   ]
  },
  {
   "cell_type": "code",
   "execution_count": 35,
   "metadata": {},
   "outputs": [
    {
     "data": {
      "text/plain": [
       "['Nieruchomości', 'Mieszkania', 'Wynajem']"
      ]
     },
     "execution_count": 35,
     "metadata": {},
     "output_type": "execute_result"
    }
   ],
   "source": [
    "list_categories(15, categories)"
   ]
  },
  {
   "cell_type": "code",
   "execution_count": 36,
   "metadata": {},
   "outputs": [
    {
     "name": "stdout",
     "output_type": "stream",
     "text": [
      "0\n",
      "0\n"
     ]
    }
   ],
   "source": [
    "print(len(ads_df[ads_df['category_id'] == 15]['predict_sold']))\n",
    "print(len(ads_df[(ads_df['category_id'] == 15) & (ads_df['predict_sold'] == 't')]['predict_sold']))"
   ]
  },
  {
   "cell_type": "code",
   "execution_count": 37,
   "metadata": {
    "collapsed": true
   },
   "outputs": [],
   "source": [
    "def get_percentage_of_sold(ad_df, category_id):\n",
    "    all_ads = len(ad_df[ad_df['category_id'] == category_id]['predict_sold'])\n",
    "    sold_ads = len(ad_df[(ad_df['category_id'] == category_id) & (ad_df['predict_sold'] == 't')]['predict_sold'])\n",
    "    # print(all_ads)\n",
    "    return sold_ads / all_ads"
   ]
  },
  {
   "cell_type": "code",
   "execution_count": 38,
   "metadata": {},
   "outputs": [
    {
     "data": {
      "text/plain": [
       "['Dom i Ogród', 'Ogrzewanie']"
      ]
     },
     "execution_count": 38,
     "metadata": {},
     "output_type": "execute_result"
    }
   ],
   "source": [
    "list_categories(279, categories)"
   ]
  },
  {
   "cell_type": "code",
   "execution_count": 39,
   "metadata": {},
   "outputs": [
    {
     "name": "stdout",
     "output_type": "stream",
     "text": [
      "Series([], Freq: D, Name: sessions_count, dtype: float64)\n",
      "Series([], Freq: D, Name: sessions_count, dtype: float64)\n"
     ]
    }
   ],
   "source": [
    "print(get_ts_for_cat(628, sq_time_series))\n",
    "print(get_ts_for_cat(279, sq_time_series))"
   ]
  },
  {
   "cell_type": "markdown",
   "metadata": {},
   "source": [
    "That's weird... No data for sessions, although it was searched and even sold for some cases."
   ]
  },
  {
   "cell_type": "code",
   "execution_count": 40,
   "metadata": {},
   "outputs": [
    {
     "name": "stdout",
     "output_type": "stream",
     "text": [
      "628\n"
     ]
    }
   ],
   "source": [
    "print(get_top_parent_category(279, categories))"
   ]
  },
  {
   "cell_type": "code",
   "execution_count": 45,
   "metadata": {},
   "outputs": [
    {
     "data": {
      "text/plain": [
       "15.0"
      ]
     },
     "execution_count": 45,
     "metadata": {},
     "output_type": "execute_result"
    }
   ],
   "source": [
    "sq_df.groupby('category_id')['sessions_count'].sum().idxmax()"
   ]
  },
  {
   "cell_type": "code",
   "execution_count": 47,
   "metadata": {},
   "outputs": [
    {
     "data": {
      "text/html": [
       "<div>\n",
       "<style>\n",
       "    .dataframe thead tr:only-child th {\n",
       "        text-align: right;\n",
       "    }\n",
       "\n",
       "    .dataframe thead th {\n",
       "        text-align: left;\n",
       "    }\n",
       "\n",
       "    .dataframe tbody tr th {\n",
       "        vertical-align: top;\n",
       "    }\n",
       "</style>\n",
       "<table border=\"1\" class=\"dataframe\">\n",
       "  <thead>\n",
       "    <tr style=\"text-align: right;\">\n",
       "      <th></th>\n",
       "      <th>id</th>\n",
       "      <th>region_id</th>\n",
       "      <th>category_id</th>\n",
       "      <th>subregion_id</th>\n",
       "      <th>district_id</th>\n",
       "      <th>city_id</th>\n",
       "      <th>accurate_location</th>\n",
       "      <th>user_id</th>\n",
       "      <th>sorting_date</th>\n",
       "      <th>created_at_first</th>\n",
       "      <th>valid_to</th>\n",
       "      <th>title</th>\n",
       "      <th>description</th>\n",
       "      <th>full_description</th>\n",
       "      <th>has_phone</th>\n",
       "      <th>params</th>\n",
       "      <th>private_business</th>\n",
       "      <th>has_person</th>\n",
       "      <th>photo_sizes</th>\n",
       "      <th>paidads_id_index</th>\n",
       "      <th>paidads_valid_to</th>\n",
       "      <th>predict_sold</th>\n",
       "      <th>predict_replies</th>\n",
       "      <th>predict_views</th>\n",
       "      <th>reply_call</th>\n",
       "      <th>reply_sms</th>\n",
       "      <th>reply_chat</th>\n",
       "      <th>reply_call_intent</th>\n",
       "      <th>reply_chat_intent</th>\n",
       "      <th>parent_id</th>\n",
       "      <th>name_pl</th>\n",
       "    </tr>\n",
       "  </thead>\n",
       "  <tbody>\n",
       "  </tbody>\n",
       "</table>\n",
       "</div>"
      ],
      "text/plain": [
       "Empty DataFrame\n",
       "Columns: [id, region_id, category_id, subregion_id, district_id, city_id, accurate_location, user_id, sorting_date, created_at_first, valid_to, title, description, full_description, has_phone, params, private_business, has_person, photo_sizes, paidads_id_index, paidads_valid_to, predict_sold, predict_replies, predict_views, reply_call, reply_sms, reply_chat, reply_call_intent, reply_chat_intent, parent_id, name_pl]\n",
       "Index: []"
      ]
     },
     "execution_count": 47,
     "metadata": {},
     "output_type": "execute_result"
    }
   ],
   "source": [
    "ads_df[ads_df['category_id'] == 15]"
   ]
  },
  {
   "cell_type": "markdown",
   "metadata": {},
   "source": [
    "WTF??? No ads for category 15, which is wynajem, and there is 1000000+ search queries for it..."
   ]
  },
  {
   "cell_type": "code",
   "execution_count": 48,
   "metadata": {},
   "outputs": [
    {
     "name": "stdout",
     "output_type": "stream",
     "text": [
      "['Nieruchomości', 'Mieszkania', 'Wynajem']\n",
      "sorting_date\n",
      "2016-10-18     98242.0\n",
      "2016-10-19     96587.0\n",
      "2016-10-20     92633.0\n",
      "2016-10-21     82239.0\n",
      "2016-10-22     72333.0\n",
      "2016-10-23     87693.0\n",
      "2016-10-24    102138.0\n",
      "2016-10-25     99688.0\n",
      "2016-10-26     93095.0\n",
      "2016-10-27     87956.0\n",
      "2016-10-28     76075.0\n",
      "2016-10-29     67874.0\n",
      "2016-10-30     78767.0\n",
      "2016-10-31     76493.0\n",
      "Freq: D, Name: sessions_count, dtype: float64\n"
     ]
    },
    {
     "data": {
      "text/plain": [
       "[<matplotlib.lines.Line2D at 0x7f7c9383ffd0>]"
      ]
     },
     "execution_count": 48,
     "metadata": {},
     "output_type": "execute_result"
    },
    {
     "data": {
      "image/png": "[encoded data removed]",
      "text/plain": [
       "<matplotlib.figure.Figure at 0x7f7c8b449c88>"
      ]
     },
     "metadata": {},
     "output_type": "display_data"
    }
   ],
   "source": [
    "print(list_categories(15, categories))\n",
    "print(get_ts_for_cat(15, sq_time_series))\n",
    "plt.plot(get_ts_for_cat(15, sq_time_series))"
   ]
  },
  {
   "cell_type": "markdown",
   "metadata": {},
   "source": [
    "Let's check how many items they sold from the category"
   ]
  },
  {
   "cell_type": "code",
   "execution_count": 49,
   "metadata": {},
   "outputs": [
    {
     "data": {
      "text/plain": [
       "0.16740088105726872"
      ]
     },
     "execution_count": 49,
     "metadata": {},
     "output_type": "execute_result"
    }
   ],
   "source": [
    "get_percentage_of_sold(ads_df, 180)"
   ]
  },
  {
   "cell_type": "markdown",
   "metadata": {},
   "source": [
    "We could do such analysis for every category (only the leaves or aggregated, or top parents only) and see how does it look globally"
   ]
  },
  {
   "cell_type": "markdown",
   "metadata": {},
   "source": [
    "#### The questions (if you can answer, feel free to do so :))"
   ]
  },
  {
   "cell_type": "markdown",
   "metadata": {},
   "source": [
    "Check the impact of trends on sold attribute"
   ]
  },
  {
   "cell_type": "code",
   "execution_count": null,
   "metadata": {
    "collapsed": true
   },
   "outputs": [],
   "source": []
  },
  {
   "cell_type": "markdown",
   "metadata": {},
   "source": [
    "Check the impact of regions on sold attribute"
   ]
  },
  {
   "cell_type": "code",
   "execution_count": null,
   "metadata": {
    "collapsed": true
   },
   "outputs": [],
   "source": []
  },
  {
   "cell_type": "markdown",
   "metadata": {},
   "source": [
    "Are there better or worse reputation users? Does it have any impact on sold?"
   ]
  },
  {
   "cell_type": "code",
   "execution_count": null,
   "metadata": {
    "collapsed": true
   },
   "outputs": [],
   "source": []
  },
  {
   "cell_type": "markdown",
   "metadata": {},
   "source": [
    "Impact of description. Probably we will be doing later sentiment classification of descriptions"
   ]
  },
  {
   "cell_type": "code",
   "execution_count": null,
   "metadata": {
    "collapsed": true
   },
   "outputs": [],
   "source": []
  },
  {
   "cell_type": "markdown",
   "metadata": {},
   "source": [
    "Impact of trends on views and replies"
   ]
  },
  {
   "cell_type": "code",
   "execution_count": null,
   "metadata": {
    "collapsed": true
   },
   "outputs": [],
   "source": []
  },
  {
   "cell_type": "markdown",
   "metadata": {},
   "source": [
    "How to check relevancy of prices? Maybe it would be a better idea to train a model using categorical data of price, like normal/too_low/too_high? Is just the price can give to the computer good information?"
   ]
  },
  {
   "cell_type": "code",
   "execution_count": null,
   "metadata": {
    "collapsed": true
   },
   "outputs": [],
   "source": []
  },
  {
   "cell_type": "markdown",
   "metadata": {},
   "source": [
    "Is valid_to very important? Like when it's ending before two weeks or after? Does it have some impact?"
   ]
  },
  {
   "cell_type": "code",
   "execution_count": null,
   "metadata": {
    "collapsed": true
   },
   "outputs": [],
   "source": []
  },
  {
   "cell_type": "markdown",
   "metadata": {
    "collapsed": true
   },
   "source": [
    "What about nulls in category_id? Probably need to impute correct category there somehow."
   ]
  },
  {
   "cell_type": "code",
   "execution_count": null,
   "metadata": {
    "collapsed": true
   },
   "outputs": [],
   "source": []
  }
 ],
 "metadata": {
  "kernelspec": {
   "display_name": "Python 3",
   "language": "python",
   "name": "python3"
  },
  "language_info": {
   "codemirror_mode": {
    "name": "ipython",
    "version": 3
   },
   "file_extension": ".py",
   "mimetype": "text/x-python",
   "name": "python",
   "nbconvert_exporter": "python",
   "pygments_lexer": "ipython3",
   "version": "3.6.1"
  }
 },
 "nbformat": 4,
 "nbformat_minor": 2
}
